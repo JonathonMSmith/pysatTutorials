{
 "cells": [
  {
   "cell_type": "code",
   "execution_count": 1,
   "metadata": {},
   "outputs": [],
   "source": [
    "import datetime as dt\n",
    "import pandas as pds\n",
    "import pysat\n",
    "\n",
    "def print_range(inst):\n",
    "    \"\"\"Print loaded data range\"\"\"\n",
    "    print('Loaded Data Range: ')\n",
    "    print(inst.index[0], ' --- ', inst.index[-1], '\\n\\n')"
   ]
  },
  {
   "cell_type": "markdown",
   "metadata": {},
   "source": [
    "# The following set up a few test conditions, run one, then execute the 'Testing Load Behaviors' cell below.\n"
   ]
  },
  {
   "cell_type": "code",
   "execution_count": 2,
   "metadata": {},
   "outputs": [],
   "source": [
    "# basic instrument setup\n",
    "inst = pysat.Instrument('pysat', 'testing')\n",
    "verify = False"
   ]
  },
  {
   "cell_type": "code",
   "execution_count": 6,
   "metadata": {},
   "outputs": [],
   "source": [
    "# instrument setup with data padding\n",
    "inst = pysat.Instrument('pysat', 'testing', pad={'minutes': 5})\n",
    "verify = True"
   ]
  },
  {
   "cell_type": "code",
   "execution_count": 2,
   "metadata": {},
   "outputs": [],
   "source": [
    "# instrument setup with longer data padding\n",
    "inst = pysat.Instrument('pysat', 'testing', pad={'minutes': 5, 'days': 1})\n",
    "verify = True"
   ]
  },
  {
   "cell_type": "code",
   "execution_count": 8,
   "metadata": {},
   "outputs": [],
   "source": [
    "# instrument setup with multi_file_day\n",
    "inst = pysat.Instrument('pysat', 'testing', multi_file_day=True)\n",
    "verify = True"
   ]
  },
  {
   "cell_type": "markdown",
   "metadata": {},
   "source": [
    "# Testing Load Behaviors"
   ]
  },
  {
   "cell_type": "code",
   "execution_count": 9,
   "metadata": {},
   "outputs": [
    {
     "name": "stdout",
     "output_type": "stream",
     "text": [
      "load command via yr, doy:  2009, 1\n",
      "Loaded Data Range: \n",
      "2009-01-01 00:00:00  ---  2009-01-01 23:59:59 \n",
      "\n",
      "\n",
      "load command via yr, doy pairs:  2009, 1, 2009, 3\n",
      "Loaded Data Range: \n",
      "2009-01-01 00:00:00  ---  2009-01-02 23:59:59 \n",
      "\n",
      "\n",
      "load command via date:  2009-01-01 00:00:00\n",
      "Loaded Data Range: \n",
      "2009-01-01 00:00:00  ---  2009-01-01 23:59:59 \n",
      "\n",
      "\n",
      "load command via dates:  2009-01-01 00:00:00 ,  2009-01-03 00:00:00\n",
      "Loaded Data Range: \n",
      "2009-01-01 00:00:00  ---  2009-01-02 23:59:59 \n",
      "\n",
      "\n",
      "Load via filename:  2009-01-01.nofile\n",
      "Can't have multi_file_day and load by file. \n",
      "\n",
      "Load via filenames:  2009-01-01.nofile ,  2009-01-02.nofile\n",
      "Can't have multi_file_day and load by file. \n",
      "\n",
      "Note that inst.date refers to the earliest day loaded, excluding padding\n",
      "inst.date:  None\n"
     ]
    }
   ],
   "source": [
    "# load by yr, doy\n",
    "try:\n",
    "    print('load command via yr, doy: ', '2009, 1')\n",
    "    inst.load(2009, 1, verifyPad=verify)\n",
    "    print_range(inst)\n",
    "except ValueError as err:\n",
    "    print(err, '\\n')\n",
    "\n",
    "# inclusive/exclusive syntax for loading over a range of dates\n",
    "print('load command via yr, doy pairs: ', '2009, 1, 2009, 3')\n",
    "inst.load(2009, 1, 2009, 3, verifyPad=verify)\n",
    "print_range(inst)\n",
    "\n",
    "# load by date\n",
    "try:\n",
    "    date = dt.datetime(2009, 1, 1)\n",
    "    print('load command via date: ', date)\n",
    "    inst.load(date=date, verifyPad=verify)\n",
    "    print_range(inst)\n",
    "except ValueError as err:\n",
    "    print(err, '\\n')\n",
    "\n",
    "\n",
    "# load by range of dates\n",
    "date = dt.datetime(2009, 1, 1)\n",
    "date2 = dt.datetime(2009, 1, 3)\n",
    "print('load command via dates: ', date, ', ', date2)\n",
    "# inclusive/exclusive syntax for loading over a range of dates\n",
    "inst.load(date=date, date2=date2, verifyPad=verify)\n",
    "print_range(inst)\n",
    "\n",
    "# load by filename\n",
    "try:\n",
    "    fname = inst.files[366]\n",
    "    print('Load via filename: ', fname)\n",
    "    inst.load(fname=fname, verifyPad=verify)\n",
    "    print_range(inst)\n",
    "except ValueError as err:\n",
    "    print(err, '\\n')\n",
    "\n",
    "\n",
    "# load by filenames\n",
    "try:\n",
    "    fname = inst.files[366]\n",
    "    fname2 = inst.files[367]\n",
    "    # inclusinve syntax for filenames, start and end\n",
    "    print('Load via filenames: ', fname, ', ', fname2)\n",
    "    inst.load(fname=fname, fname2=fname2, verifyPad=verify)\n",
    "    print_range(inst)\n",
    "except ValueError as err:\n",
    "    print(err, '\\n')\n",
    "\n",
    "\n",
    "print('Note that inst.date refers to the earliest day loaded, excluding padding')\n",
    "print('inst.date: ', inst.date)"
   ]
  },
  {
   "cell_type": "code",
   "execution_count": 12,
   "metadata": {},
   "outputs": [
    {
     "name": "stdout",
     "output_type": "stream",
     "text": [
      "Loaded Data Range: \n",
      "2008-01-01 00:00:00  ---  2010-12-31 00:00:09 \n",
      "\n",
      "\n"
     ]
    }
   ],
   "source": [
    "# Load all data, first file through last file\n",
    "inst = pysat.Instrument('pysat', 'testing', num_daily_samples=10)\n",
    "inst.load()\n",
    "print_range(inst)"
   ]
  },
  {
   "cell_type": "markdown",
   "metadata": {},
   "source": [
    "# Test out iteration behaviours"
   ]
  },
  {
   "cell_type": "code",
   "execution_count": 1,
   "metadata": {},
   "outputs": [],
   "source": [
    "# Set bounds on instrument iteration, denoted via date or file limits.\n",
    "# Format when setting bounds:\n",
    "#     bounds = (start dates/files, stop dates/files, stepsize, width of loaded data)\n",
    "# Note that start and stop dates are effectively imposed upon inst.date, or the earliest loaded day in the object.\n",
    "# When loading with a data width greater than one day, some of the data samples on the last iteration may \n",
    "# extend past the supplied bounds, depending upon the step size and data width chosen.\n",
    "\n",
    "import datetime as dt\n",
    "import pandas as pds\n",
    "import pysat\n",
    "\n",
    "def print_range(inst):\n",
    "    \"\"\"Print loaded data range\"\"\"\n",
    "    print('Loaded Data Range: ')\n",
    "    print(inst.index[0], ' --- ', inst.index[-1], '\\n\\n')\n",
    "    \n",
    "# basic instrument setup\n",
    "inst = pysat.Instrument('pysat', 'testing')\n",
    "verify = False"
   ]
  },
  {
   "cell_type": "markdown",
   "metadata": {},
   "source": [
    "# Run one of the cells below to set up checking out iteration via date, or via file"
   ]
  },
  {
   "cell_type": "code",
   "execution_count": 7,
   "metadata": {},
   "outputs": [
    {
     "name": "stdout",
     "output_type": "stream",
     "text": [
      "hi there!  2008-01-10 00:00:00 2008-01-11 00:00:00 o yo o\n",
      "([datetime.datetime(2008, 1, 1, 0, 0)], [datetime.datetime(2008, 1, 11, 0, 0)], '2D', <DateOffset: days=2>)\n"
     ]
    }
   ],
   "source": [
    "# set up bounds via dates\n",
    "# iterate with step size of 2, width of 2 (days)\n",
    "date = inst.files.start_date\n",
    "date2 = inst.files.start_date + pds.DateOffset(days=10)\n",
    "date2 = date2.to_pydatetime()\n",
    "# format (dt.datetime of list-of, dt.datetime of list-of, pandas frequency string, pandas Date Offset)\n",
    "# Ensuring type consistency means that Timestamp date2 needs to become datetime date2.\n",
    "# Incidentally, the frequency string '2D' can also be a DateOffset\n",
    "bounds = (date, date2, '2D', pds.DateOffset(days=2))\n",
    "inst.bounds = bounds\n",
    "print(inst.bounds)"
   ]
  },
  {
   "cell_type": "code",
   "execution_count": 2,
   "metadata": {},
   "outputs": [
    {
     "name": "stdout",
     "output_type": "stream",
     "text": [
      "([datetime.datetime(2008, 1, 1, 0, 0)], [datetime.datetime(2008, 1, 11, 0, 0)], '2D', <DateOffset: days=1>)\n"
     ]
    }
   ],
   "source": [
    "# set up bounds via dates\n",
    "# iterate with step size of 2, width of 1 (days)\n",
    "date = inst.files.start_date\n",
    "date2 = inst.files.start_date + pds.DateOffset(days=10)\n",
    "date2 = date2.to_pydatetime()\n",
    "# format (dt.datetime of list-of, dt.datetime of list-of, pandas frequency string, pandas Date Offset)\n",
    "# Ensuring type consistency means that Timestamp date2 needs to become datetime date2.\n",
    "# Incidentally, the frequency string '2D' can also be a DateOffset\n",
    "bounds = (date, date2, '2D', pds.DateOffset(days=1))\n",
    "inst.bounds = bounds\n",
    "print(inst.bounds)"
   ]
  },
  {
   "cell_type": "code",
   "execution_count": 2,
   "metadata": {},
   "outputs": [
    {
     "name": "stdout",
     "output_type": "stream",
     "text": [
      "([datetime.datetime(2008, 1, 1, 0, 0), datetime.datetime(2008, 1, 31, 0, 0)], [datetime.datetime(2008, 1, 11, 0, 0), datetime.datetime(2008, 2, 10, 0, 0)], '3D', <DateOffset: days=4>)\n"
     ]
    }
   ],
   "source": [
    "# set up multiple bounds via dates\n",
    "date = inst.files.start_date\n",
    "date2 = inst.files.start_date + pds.DateOffset(days=10)\n",
    "date2 = date2.to_pydatetime()\n",
    "\n",
    "date3 = date2 + pds.DateOffset(days=20)\n",
    "date3 = date3.to_pydatetime()\n",
    "date4 = date3 + pds.DateOffset(days=10)\n",
    "date4 = date4.to_pydatetime()\n",
    "\n",
    "# format (dt.datetime of list-of, dt.datetime of list-of, pandas frequency string, pandas Date Offset)\n",
    "# Ensuring type consistency means that Timestamp date2 needs to become datetime date2.\n",
    "# Incidentally, the frequency string '2D' can also be a DateOffset\n",
    "bounds = ((date, date3), (date2, date4), '3D', pds.DateOffset(days=4))\n",
    "inst.bounds = bounds\n",
    "print(inst.bounds)"
   ]
  },
  {
   "cell_type": "code",
   "execution_count": 2,
   "metadata": {},
   "outputs": [
    {
     "name": "stdout",
     "output_type": "stream",
     "text": [
      "(array(['2008-01-01.nofile'], dtype='<U17'), array(['2008-01-11.nofile'], dtype='<U17'), 3, 2)\n"
     ]
    }
   ],
   "source": [
    "# set up bounds via files\n",
    "# check for a step greater than width\n",
    "file = inst.files[0]\n",
    "file2 = inst.files[10]\n",
    "# step by 2 files, and load 2 files at a time\n",
    "bounds = (file, file2, 3, 2)\n",
    "inst.bounds = bounds\n",
    "print(inst.bounds)"
   ]
  },
  {
   "cell_type": "code",
   "execution_count": 5,
   "metadata": {},
   "outputs": [
    {
     "name": "stdout",
     "output_type": "stream",
     "text": [
      "(array(['2008-01-01.nofile'], dtype='<U17'), array(['2008-01-11.nofile'], dtype='<U17'), 2, 4)\n"
     ]
    }
   ],
   "source": [
    "# set up bounds via files\n",
    "# check for a width greater than the step increment\n",
    "file = inst.files[0]\n",
    "file2 = inst.files[10]\n",
    "# step by 2 files, and load 2 files at a time\n",
    "bounds = (file, file2, 2, 4)\n",
    "inst.bounds = bounds\n",
    "print(inst.bounds)"
   ]
  },
  {
   "cell_type": "code",
   "execution_count": 3,
   "metadata": {},
   "outputs": [
    {
     "name": "stdout",
     "output_type": "stream",
     "text": [
      "(array(['2008-01-01.nofile'], dtype='<U17'), array(['2008-01-11.nofile'], dtype='<U17'), 2, 1)\n"
     ]
    }
   ],
   "source": [
    "# set up bounds via files\n",
    "# check for a width of one\n",
    "file = inst.files[0]\n",
    "file2 = inst.files[10]\n",
    "# step by 2 files, and load 1 file at a time\n",
    "bounds = (file, file2, 2, 1)\n",
    "inst.bounds = bounds\n",
    "print(inst.bounds)"
   ]
  },
  {
   "cell_type": "markdown",
   "metadata": {},
   "source": [
    "# Test Iteration"
   ]
  },
  {
   "cell_type": "code",
   "execution_count": 3,
   "metadata": {},
   "outputs": [
    {
     "name": "stdout",
     "output_type": "stream",
     "text": [
      "Instrument bounds: \n",
      "(array(['2008-01-01.nofile'], dtype='<U17'), array(['2008-01-11.nofile'], dtype='<U17'), 3, 2) \n",
      "\n",
      "Checking iteration via next(). Starting from new object.\n",
      "Loaded Data Range: \n",
      "2008-01-01 00:00:00  ---  2008-01-02 23:59:59 \n",
      "\n",
      "\n",
      "Loaded Data Range: \n",
      "2008-01-04 00:00:00  ---  2008-01-05 23:59:59 \n",
      "\n",
      "\n",
      "Loaded Data Range: \n",
      "2008-01-07 00:00:00  ---  2008-01-08 23:59:59 \n",
      "\n",
      "\n",
      "Loaded Data Range: \n",
      "2008-01-10 00:00:00  ---  2008-01-11 23:59:59 \n",
      "\n",
      "\n",
      "Checking iteration via prev(). Starting from new object.\n",
      "Loaded Data Range: \n",
      "2008-01-10 00:00:00  ---  2008-01-11 23:59:59 \n",
      "\n",
      "\n",
      "Loaded Data Range: \n",
      "2008-01-07 00:00:00  ---  2008-01-08 23:59:59 \n",
      "\n",
      "\n",
      "Loaded Data Range: \n",
      "2008-01-04 00:00:00  ---  2008-01-05 23:59:59 \n",
      "\n",
      "\n",
      "Loaded Data Range: \n",
      "2008-01-01 00:00:00  ---  2008-01-02 23:59:59 \n",
      "\n",
      "\n",
      "Checking iteration via built-in iteration. Starting from new object.\n",
      "Loaded Data Range: \n",
      "2008-01-01 00:00:00  ---  2008-01-02 23:59:59 \n",
      "\n",
      "\n",
      "Loaded Data Range: \n",
      "2008-01-04 00:00:00  ---  2008-01-05 23:59:59 \n",
      "\n",
      "\n",
      "Loaded Data Range: \n",
      "2008-01-07 00:00:00  ---  2008-01-08 23:59:59 \n",
      "\n",
      "\n",
      "Loaded Data Range: \n",
      "2008-01-10 00:00:00  ---  2008-01-11 23:59:59 \n",
      "\n",
      "\n",
      "One last quick check on .prev(), continuing from last object.\n",
      "Loaded Data Range: \n",
      "2008-01-07 00:00:00  ---  2008-01-08 23:59:59 \n",
      "\n",
      "\n"
     ]
    }
   ],
   "source": [
    "def check_bounds(inst):\n",
    "    \"\"\"Check that inst.date is within inst.bounds\"\"\"\n",
    "    if inst._iter_type == 'date':\n",
    "        assert inst.check_date_in_bounds(inst.date)\n",
    "    else:\n",
    "        assert inst._fid >= inst.files.get_index(inst.bounds[0][0])\n",
    "        assert inst._fid <= inst.files.get_index(inst.bounds[1][0])\n",
    "\n",
    "# instrument setup\n",
    "# We need to start with a new Instrument to ensure we test .next() starting from nothing\n",
    "inst = pysat.Instrument('pysat', 'testing')\n",
    "inst.bounds = bounds\n",
    "print('Instrument bounds: ')\n",
    "print(inst.bounds, '\\n')\n",
    "\n",
    "print('Checking iteration via next(). Starting from new object.')\n",
    "while True:\n",
    "    try:\n",
    "        inst.next()\n",
    "        print_range(inst)\n",
    "        check_bounds(inst)\n",
    "    except StopIteration:\n",
    "        break\n",
    "\n",
    "# We need to start with a new Instrument to ensure we test .prev() starting from nothing\n",
    "inst = pysat.Instrument('pysat', 'testing')\n",
    "inst.bounds = bounds\n",
    "print('Checking iteration via prev(). Starting from new object.')\n",
    "while True:\n",
    "    try:\n",
    "        inst.prev()\n",
    "        print_range(inst)\n",
    "        check_bounds(inst)\n",
    "    except StopIteration:\n",
    "        break\n",
    "\n",
    "\n",
    "# We need to start with a new Instrument to ensure we test iteration starting from nothing\n",
    "inst = pysat.Instrument('pysat', 'testing')\n",
    "inst.bounds = bounds\n",
    "print('Checking iteration via built-in iteration. Starting from new object.')\n",
    "for inst in inst:\n",
    "    print_range(inst)\n",
    "    check_bounds(inst)\n",
    "\n",
    "\n",
    "# Instrument currently on last day\n",
    "print('One last quick check on .prev(), continuing from last object.')\n",
    "inst.prev()\n",
    "print_range(inst)"
   ]
  },
  {
   "cell_type": "code",
   "execution_count": 12,
   "metadata": {},
   "outputs": [
    {
     "data": {
      "text/plain": [
       "DatetimeIndex([], dtype='datetime64[ns]', freq=None)"
      ]
     },
     "execution_count": 12,
     "metadata": {},
     "output_type": "execute_result"
    }
   ],
   "source": [
    "inst._iter_list\n"
   ]
  },
  {
   "cell_type": "markdown",
   "metadata": {},
   "source": [
    "# Test out orbit behaviors"
   ]
  },
  {
   "cell_type": "code",
   "execution_count": 13,
   "metadata": {},
   "outputs": [],
   "source": [
    "orbit_info = {'kind': 'lt', 'index': 'mlt'}\n",
    "inst = pysat.Instrument('pysat', 'testing', multi_file_day=True, orbit_info=orbit_info)\n",
    "\n"
   ]
  },
  {
   "cell_type": "code",
   "execution_count": 41,
   "metadata": {},
   "outputs": [],
   "source": [
    "inst.load(2009, 1, 2009, 3)\n"
   ]
  },
  {
   "cell_type": "code",
   "execution_count": 44,
   "metadata": {},
   "outputs": [
    {
     "data": {
      "text/plain": [
       "16"
      ]
     },
     "execution_count": 44,
     "metadata": {},
     "output_type": "execute_result"
    }
   ],
   "source": [
    "inst.orbits.num\n"
   ]
  },
  {
   "cell_type": "code",
   "execution_count": 45,
   "metadata": {},
   "outputs": [
    {
     "data": {
      "text/html": [
       "<div>\n",
       "<style scoped>\n",
       "    .dataframe tbody tr th:only-of-type {\n",
       "        vertical-align: middle;\n",
       "    }\n",
       "\n",
       "    .dataframe tbody tr th {\n",
       "        vertical-align: top;\n",
       "    }\n",
       "\n",
       "    .dataframe thead th {\n",
       "        text-align: right;\n",
       "    }\n",
       "</style>\n",
       "<table border=\"1\" class=\"dataframe\">\n",
       "  <thead>\n",
       "    <tr style=\"text-align: right;\">\n",
       "      <th></th>\n",
       "      <th>uts</th>\n",
       "      <th>mlt</th>\n",
       "      <th>slt</th>\n",
       "      <th>longitude</th>\n",
       "      <th>latitude</th>\n",
       "      <th>altitude</th>\n",
       "      <th>orbit_num</th>\n",
       "      <th>dummy1</th>\n",
       "      <th>dummy2</th>\n",
       "      <th>dummy3</th>\n",
       "      <th>dummy4</th>\n",
       "      <th>string_dummy</th>\n",
       "      <th>unicode_dummy</th>\n",
       "      <th>int8_dummy</th>\n",
       "      <th>int16_dummy</th>\n",
       "      <th>int32_dummy</th>\n",
       "      <th>int64_dummy</th>\n",
       "    </tr>\n",
       "    <tr>\n",
       "      <th>Epoch</th>\n",
       "      <th></th>\n",
       "      <th></th>\n",
       "      <th></th>\n",
       "      <th></th>\n",
       "      <th></th>\n",
       "      <th></th>\n",
       "      <th></th>\n",
       "      <th></th>\n",
       "      <th></th>\n",
       "      <th></th>\n",
       "      <th></th>\n",
       "      <th></th>\n",
       "      <th></th>\n",
       "      <th></th>\n",
       "      <th></th>\n",
       "      <th></th>\n",
       "      <th></th>\n",
       "    </tr>\n",
       "  </thead>\n",
       "  <tbody>\n",
       "    <tr>\n",
       "      <th>2009-01-01 01:37:00</th>\n",
       "      <td>5820.0</td>\n",
       "      <td>0.000000</td>\n",
       "      <td>0.082474</td>\n",
       "      <td>335.769231</td>\n",
       "      <td>90.000000</td>\n",
       "      <td>400.0</td>\n",
       "      <td>5434</td>\n",
       "      <td>0</td>\n",
       "      <td>22</td>\n",
       "      <td>22000.0</td>\n",
       "      <td>5820.0</td>\n",
       "      <td>test</td>\n",
       "      <td>test</td>\n",
       "      <td>1</td>\n",
       "      <td>1</td>\n",
       "      <td>1</td>\n",
       "      <td>1</td>\n",
       "    </tr>\n",
       "    <tr>\n",
       "      <th>2009-01-01 01:37:01</th>\n",
       "      <td>5821.0</td>\n",
       "      <td>0.004124</td>\n",
       "      <td>0.086598</td>\n",
       "      <td>335.826923</td>\n",
       "      <td>89.999948</td>\n",
       "      <td>400.0</td>\n",
       "      <td>5434</td>\n",
       "      <td>0</td>\n",
       "      <td>22</td>\n",
       "      <td>22000.0</td>\n",
       "      <td>5821.0</td>\n",
       "      <td>test</td>\n",
       "      <td>test</td>\n",
       "      <td>1</td>\n",
       "      <td>1</td>\n",
       "      <td>1</td>\n",
       "      <td>1</td>\n",
       "    </tr>\n",
       "    <tr>\n",
       "      <th>2009-01-01 01:37:02</th>\n",
       "      <td>5822.0</td>\n",
       "      <td>0.008247</td>\n",
       "      <td>0.090722</td>\n",
       "      <td>335.884615</td>\n",
       "      <td>89.999790</td>\n",
       "      <td>400.0</td>\n",
       "      <td>5434</td>\n",
       "      <td>0</td>\n",
       "      <td>22</td>\n",
       "      <td>22000.0</td>\n",
       "      <td>5822.0</td>\n",
       "      <td>test</td>\n",
       "      <td>test</td>\n",
       "      <td>1</td>\n",
       "      <td>1</td>\n",
       "      <td>1</td>\n",
       "      <td>1</td>\n",
       "    </tr>\n",
       "    <tr>\n",
       "      <th>2009-01-01 01:37:03</th>\n",
       "      <td>5823.0</td>\n",
       "      <td>0.012371</td>\n",
       "      <td>0.094845</td>\n",
       "      <td>335.942308</td>\n",
       "      <td>89.999528</td>\n",
       "      <td>400.0</td>\n",
       "      <td>5434</td>\n",
       "      <td>0</td>\n",
       "      <td>22</td>\n",
       "      <td>22000.0</td>\n",
       "      <td>5823.0</td>\n",
       "      <td>test</td>\n",
       "      <td>test</td>\n",
       "      <td>1</td>\n",
       "      <td>1</td>\n",
       "      <td>1</td>\n",
       "      <td>1</td>\n",
       "    </tr>\n",
       "    <tr>\n",
       "      <th>2009-01-01 01:37:04</th>\n",
       "      <td>5824.0</td>\n",
       "      <td>0.016495</td>\n",
       "      <td>0.098969</td>\n",
       "      <td>336.000000</td>\n",
       "      <td>89.999161</td>\n",
       "      <td>400.0</td>\n",
       "      <td>5434</td>\n",
       "      <td>0</td>\n",
       "      <td>22</td>\n",
       "      <td>22000.0</td>\n",
       "      <td>5824.0</td>\n",
       "      <td>test</td>\n",
       "      <td>test</td>\n",
       "      <td>1</td>\n",
       "      <td>1</td>\n",
       "      <td>1</td>\n",
       "      <td>1</td>\n",
       "    </tr>\n",
       "    <tr>\n",
       "      <th>...</th>\n",
       "      <td>...</td>\n",
       "      <td>...</td>\n",
       "      <td>...</td>\n",
       "      <td>...</td>\n",
       "      <td>...</td>\n",
       "      <td>...</td>\n",
       "      <td>...</td>\n",
       "      <td>...</td>\n",
       "      <td>...</td>\n",
       "      <td>...</td>\n",
       "      <td>...</td>\n",
       "      <td>...</td>\n",
       "      <td>...</td>\n",
       "      <td>...</td>\n",
       "      <td>...</td>\n",
       "      <td>...</td>\n",
       "      <td>...</td>\n",
       "    </tr>\n",
       "    <tr>\n",
       "      <th>2009-01-01 03:13:55</th>\n",
       "      <td>11635.0</td>\n",
       "      <td>23.979381</td>\n",
       "      <td>0.061856</td>\n",
       "      <td>311.250000</td>\n",
       "      <td>89.998689</td>\n",
       "      <td>400.0</td>\n",
       "      <td>5435</td>\n",
       "      <td>23</td>\n",
       "      <td>20</td>\n",
       "      <td>20023.0</td>\n",
       "      <td>11635.0</td>\n",
       "      <td>test</td>\n",
       "      <td>test</td>\n",
       "      <td>1</td>\n",
       "      <td>1</td>\n",
       "      <td>1</td>\n",
       "      <td>1</td>\n",
       "    </tr>\n",
       "    <tr>\n",
       "      <th>2009-01-01 03:13:56</th>\n",
       "      <td>11636.0</td>\n",
       "      <td>23.983505</td>\n",
       "      <td>0.065979</td>\n",
       "      <td>311.307692</td>\n",
       "      <td>89.999161</td>\n",
       "      <td>400.0</td>\n",
       "      <td>5435</td>\n",
       "      <td>23</td>\n",
       "      <td>20</td>\n",
       "      <td>20023.0</td>\n",
       "      <td>11636.0</td>\n",
       "      <td>test</td>\n",
       "      <td>test</td>\n",
       "      <td>1</td>\n",
       "      <td>1</td>\n",
       "      <td>1</td>\n",
       "      <td>1</td>\n",
       "    </tr>\n",
       "    <tr>\n",
       "      <th>2009-01-01 03:13:57</th>\n",
       "      <td>11637.0</td>\n",
       "      <td>23.987629</td>\n",
       "      <td>0.070103</td>\n",
       "      <td>311.365385</td>\n",
       "      <td>89.999528</td>\n",
       "      <td>400.0</td>\n",
       "      <td>5435</td>\n",
       "      <td>23</td>\n",
       "      <td>20</td>\n",
       "      <td>20023.0</td>\n",
       "      <td>11637.0</td>\n",
       "      <td>test</td>\n",
       "      <td>test</td>\n",
       "      <td>1</td>\n",
       "      <td>1</td>\n",
       "      <td>1</td>\n",
       "      <td>1</td>\n",
       "    </tr>\n",
       "    <tr>\n",
       "      <th>2009-01-01 03:13:58</th>\n",
       "      <td>11638.0</td>\n",
       "      <td>23.991753</td>\n",
       "      <td>0.074227</td>\n",
       "      <td>311.423077</td>\n",
       "      <td>89.999790</td>\n",
       "      <td>400.0</td>\n",
       "      <td>5435</td>\n",
       "      <td>23</td>\n",
       "      <td>20</td>\n",
       "      <td>20023.0</td>\n",
       "      <td>11638.0</td>\n",
       "      <td>test</td>\n",
       "      <td>test</td>\n",
       "      <td>1</td>\n",
       "      <td>1</td>\n",
       "      <td>1</td>\n",
       "      <td>1</td>\n",
       "    </tr>\n",
       "    <tr>\n",
       "      <th>2009-01-01 03:13:59</th>\n",
       "      <td>11639.0</td>\n",
       "      <td>23.995876</td>\n",
       "      <td>0.078351</td>\n",
       "      <td>311.480769</td>\n",
       "      <td>89.999948</td>\n",
       "      <td>400.0</td>\n",
       "      <td>5435</td>\n",
       "      <td>23</td>\n",
       "      <td>20</td>\n",
       "      <td>20023.0</td>\n",
       "      <td>11639.0</td>\n",
       "      <td>test</td>\n",
       "      <td>test</td>\n",
       "      <td>1</td>\n",
       "      <td>1</td>\n",
       "      <td>1</td>\n",
       "      <td>1</td>\n",
       "    </tr>\n",
       "  </tbody>\n",
       "</table>\n",
       "<p>5820 rows × 17 columns</p>\n",
       "</div>"
      ],
      "text/plain": [
       "                         uts        mlt       slt   longitude   latitude  \\\n",
       "Epoch                                                                      \n",
       "2009-01-01 01:37:00   5820.0   0.000000  0.082474  335.769231  90.000000   \n",
       "2009-01-01 01:37:01   5821.0   0.004124  0.086598  335.826923  89.999948   \n",
       "2009-01-01 01:37:02   5822.0   0.008247  0.090722  335.884615  89.999790   \n",
       "2009-01-01 01:37:03   5823.0   0.012371  0.094845  335.942308  89.999528   \n",
       "2009-01-01 01:37:04   5824.0   0.016495  0.098969  336.000000  89.999161   \n",
       "...                      ...        ...       ...         ...        ...   \n",
       "2009-01-01 03:13:55  11635.0  23.979381  0.061856  311.250000  89.998689   \n",
       "2009-01-01 03:13:56  11636.0  23.983505  0.065979  311.307692  89.999161   \n",
       "2009-01-01 03:13:57  11637.0  23.987629  0.070103  311.365385  89.999528   \n",
       "2009-01-01 03:13:58  11638.0  23.991753  0.074227  311.423077  89.999790   \n",
       "2009-01-01 03:13:59  11639.0  23.995876  0.078351  311.480769  89.999948   \n",
       "\n",
       "                     altitude  orbit_num  dummy1  dummy2   dummy3   dummy4  \\\n",
       "Epoch                                                                        \n",
       "2009-01-01 01:37:00     400.0       5434       0      22  22000.0   5820.0   \n",
       "2009-01-01 01:37:01     400.0       5434       0      22  22000.0   5821.0   \n",
       "2009-01-01 01:37:02     400.0       5434       0      22  22000.0   5822.0   \n",
       "2009-01-01 01:37:03     400.0       5434       0      22  22000.0   5823.0   \n",
       "2009-01-01 01:37:04     400.0       5434       0      22  22000.0   5824.0   \n",
       "...                       ...        ...     ...     ...      ...      ...   \n",
       "2009-01-01 03:13:55     400.0       5435      23      20  20023.0  11635.0   \n",
       "2009-01-01 03:13:56     400.0       5435      23      20  20023.0  11636.0   \n",
       "2009-01-01 03:13:57     400.0       5435      23      20  20023.0  11637.0   \n",
       "2009-01-01 03:13:58     400.0       5435      23      20  20023.0  11638.0   \n",
       "2009-01-01 03:13:59     400.0       5435      23      20  20023.0  11639.0   \n",
       "\n",
       "                    string_dummy unicode_dummy  int8_dummy  int16_dummy  \\\n",
       "Epoch                                                                     \n",
       "2009-01-01 01:37:00         test          test           1            1   \n",
       "2009-01-01 01:37:01         test          test           1            1   \n",
       "2009-01-01 01:37:02         test          test           1            1   \n",
       "2009-01-01 01:37:03         test          test           1            1   \n",
       "2009-01-01 01:37:04         test          test           1            1   \n",
       "...                          ...           ...         ...          ...   \n",
       "2009-01-01 03:13:55         test          test           1            1   \n",
       "2009-01-01 03:13:56         test          test           1            1   \n",
       "2009-01-01 03:13:57         test          test           1            1   \n",
       "2009-01-01 03:13:58         test          test           1            1   \n",
       "2009-01-01 03:13:59         test          test           1            1   \n",
       "\n",
       "                     int32_dummy  int64_dummy  \n",
       "Epoch                                          \n",
       "2009-01-01 01:37:00            1            1  \n",
       "2009-01-01 01:37:01            1            1  \n",
       "2009-01-01 01:37:02            1            1  \n",
       "2009-01-01 01:37:03            1            1  \n",
       "2009-01-01 01:37:04            1            1  \n",
       "...                          ...          ...  \n",
       "2009-01-01 03:13:55            1            1  \n",
       "2009-01-01 03:13:56            1            1  \n",
       "2009-01-01 03:13:57            1            1  \n",
       "2009-01-01 03:13:58            1            1  \n",
       "2009-01-01 03:13:59            1            1  \n",
       "\n",
       "[5820 rows x 17 columns]"
      ]
     },
     "execution_count": 45,
     "metadata": {},
     "output_type": "execute_result"
    }
   ],
   "source": [
    "inst.orbits.next()\n",
    "inst.data"
   ]
  },
  {
   "cell_type": "code",
   "execution_count": 18,
   "metadata": {},
   "outputs": [
    {
     "data": {
      "text/plain": [
       "<matplotlib.axes._subplots.AxesSubplot at 0x7fbaf0ba4910>"
      ]
     },
     "execution_count": 18,
     "metadata": {},
     "output_type": "execute_result"
    },
    {
     "data": {
      "image/png": "[encoded data removed]",
      "text/plain": [
       "<Figure size 432x288 with 1 Axes>"
      ]
     },
     "metadata": {
      "needs_background": "light"
     },
     "output_type": "display_data"
    }
   ],
   "source": [
    "inst['mlt'].plot()\n"
   ]
  },
  {
   "cell_type": "code",
   "execution_count": null,
   "metadata": {},
   "outputs": [],
   "source": []
  }
 ],
 "metadata": {
  "kernelspec": {
   "display_name": "Python 3",
   "language": "python",
   "name": "python3"
  },
  "language_info": {
   "codemirror_mode": {
    "name": "ipython",
    "version": 3
   },
   "file_extension": ".py",
   "mimetype": "text/x-python",
   "name": "python",
   "nbconvert_exporter": "python",
   "pygments_lexer": "ipython3",
   "version": "3.8.3"
  }
 },
 "nbformat": 4,
 "nbformat_minor": 4
}
