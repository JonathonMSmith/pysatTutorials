{
 "cells": [
  {
   "cell_type": "code",
   "execution_count": 1,
   "metadata": {},
   "outputs": [],
   "source": [
    "import datetime as dt\n",
    "import pandas as pds\n",
    "import pysat\n",
    "\n",
    "def print_range(inst):\n",
    "    \"\"\"Print loaded data range\"\"\"\n",
    "    print('Loaded Data Range: ')\n",
    "    print(inst.index[0], ' --- ', inst.index[-1], '\\n\\n')"
   ]
  },
  {
   "cell_type": "markdown",
   "metadata": {},
   "source": [
    "# The following set up a few test conditions, run one, then execute the 'Testing Load Behaviors' cell below.\n"
   ]
  },
  {
   "cell_type": "code",
   "execution_count": 5,
   "metadata": {},
   "outputs": [],
   "source": [
    "# basic instrument setup\n",
    "inst = pysat.Instrument('pysat', 'testing')\n",
    "verify = False"
   ]
  },
  {
   "cell_type": "code",
   "execution_count": 6,
   "metadata": {},
   "outputs": [],
   "source": [
    "# instrument setup with data padding\n",
    "inst = pysat.Instrument('pysat', 'testing', pad={'minutes': 5})\n",
    "verify = True"
   ]
  },
  {
   "cell_type": "code",
   "execution_count": 2,
   "metadata": {},
   "outputs": [],
   "source": [
    "# instrument setup with longer data padding\n",
    "inst = pysat.Instrument('pysat', 'testing', pad={'minutes': 5, 'days': 1})\n",
    "verify = True"
   ]
  },
  {
   "cell_type": "code",
   "execution_count": 8,
   "metadata": {},
   "outputs": [],
   "source": [
    "# instrument setup with multi_file_day\n",
    "inst = pysat.Instrument('pysat', 'testing', multi_file_day=True)\n",
    "verify = True"
   ]
  },
  {
   "cell_type": "markdown",
   "metadata": {},
   "source": [
    "# Testing Load Behaviors"
   ]
  },
  {
   "cell_type": "code",
   "execution_count": 9,
   "metadata": {},
   "outputs": [
    {
     "name": "stdout",
     "output_type": "stream",
     "text": [
      "load command via yr, doy:  2009, 1\n",
      "Loaded Data Range: \n",
      "2009-01-01 00:00:00  ---  2009-01-01 23:59:59 \n",
      "\n",
      "\n",
      "load command via yr, doy pairs:  2009, 1, 2009, 3\n",
      "Loaded Data Range: \n",
      "2009-01-01 00:00:00  ---  2009-01-02 23:59:59 \n",
      "\n",
      "\n",
      "load command via date:  2009-01-01 00:00:00\n",
      "Loaded Data Range: \n",
      "2009-01-01 00:00:00  ---  2009-01-01 23:59:59 \n",
      "\n",
      "\n",
      "load command via dates:  2009-01-01 00:00:00 ,  2009-01-03 00:00:00\n",
      "Loaded Data Range: \n",
      "2009-01-01 00:00:00  ---  2009-01-02 23:59:59 \n",
      "\n",
      "\n",
      "Load via filename:  2009-01-01.nofile\n",
      "Can't have multi_file_day and load by file. \n",
      "\n",
      "Load via filenames:  2009-01-01.nofile ,  2009-01-02.nofile\n",
      "Can't have multi_file_day and load by file. \n",
      "\n",
      "Note that inst.date refers to the earliest day loaded, excluding padding\n",
      "inst.date:  None\n"
     ]
    }
   ],
   "source": [
    "# load by yr, doy\n",
    "try:\n",
    "    print('load command via yr, doy: ', '2009, 1')\n",
    "    inst.load(2009, 1, verifyPad=verify)\n",
    "    print_range(inst)\n",
    "except ValueError as err:\n",
    "    print(err, '\\n')\n",
    "\n",
    "# inclusive/exclusive syntax for loading over a range of dates\n",
    "print('load command via yr, doy pairs: ', '2009, 1, 2009, 3')\n",
    "inst.load(2009, 1, 2009, 3, verifyPad=verify)\n",
    "print_range(inst)\n",
    "\n",
    "# load by date\n",
    "try:\n",
    "    date = dt.datetime(2009, 1, 1)\n",
    "    print('load command via date: ', date)\n",
    "    inst.load(date=date, verifyPad=verify)\n",
    "    print_range(inst)\n",
    "except ValueError as err:\n",
    "    print(err, '\\n')\n",
    "\n",
    "\n",
    "# load by range of dates\n",
    "date = dt.datetime(2009, 1, 1)\n",
    "date2 = dt.datetime(2009, 1, 3)\n",
    "print('load command via dates: ', date, ', ', date2)\n",
    "# inclusive/exclusive syntax for loading over a range of dates\n",
    "inst.load(date=date, date2=date2, verifyPad=verify)\n",
    "print_range(inst)\n",
    "\n",
    "# load by filename\n",
    "try:\n",
    "    fname = inst.files[366]\n",
    "    print('Load via filename: ', fname)\n",
    "    inst.load(fname=fname, verifyPad=verify)\n",
    "    print_range(inst)\n",
    "except ValueError as err:\n",
    "    print(err, '\\n')\n",
    "\n",
    "\n",
    "# load by filenames\n",
    "try:\n",
    "    fname = inst.files[366]\n",
    "    fname2 = inst.files[367]\n",
    "    # inclusinve syntax for filenames, start and end\n",
    "    print('Load via filenames: ', fname, ', ', fname2)\n",
    "    inst.load(fname=fname, fname2=fname2, verifyPad=verify)\n",
    "    print_range(inst)\n",
    "except ValueError as err:\n",
    "    print(err, '\\n')\n",
    "\n",
    "\n",
    "print('Note that inst.date refers to the earliest day loaded, excluding padding')\n",
    "print('inst.date: ', inst.date)"
   ]
  },
  {
   "cell_type": "code",
   "execution_count": 12,
   "metadata": {},
   "outputs": [
    {
     "name": "stdout",
     "output_type": "stream",
     "text": [
      "Loaded Data Range: \n",
      "2008-01-01 00:00:00  ---  2010-12-31 00:00:09 \n",
      "\n",
      "\n"
     ]
    }
   ],
   "source": [
    "# Load all data, first file through last file\n",
    "inst = pysat.Instrument('pysat', 'testing', num_daily_samples=10)\n",
    "inst.load()\n",
    "print_range(inst)"
   ]
  },
  {
   "cell_type": "markdown",
   "metadata": {},
   "source": [
    "# Test out iteration behaviours"
   ]
  },
  {
   "cell_type": "code",
   "execution_count": 10,
   "metadata": {},
   "outputs": [],
   "source": [
    "# Set bounds on instrument iteration, denoted via date or file limits.\n",
    "# Format when setting bounds:\n",
    "#     bounds = (start dates/files, stop dates/files, stepsize, width of loaded data)\n",
    "# Note that start and stop dates are effectively imposed upon inst.date, or the earliest loaded day in the object.\n",
    "# When loading with a data width greater than one day, some of the data samples on the last iteration may \n",
    "# extend past the supplied bounds, depending upon the step size and data width chosen."
   ]
  },
  {
   "cell_type": "markdown",
   "metadata": {},
   "source": [
    "# Run one of the two cells below to set up checking out iteration via date, or via file"
   ]
  },
  {
   "cell_type": "code",
   "execution_count": 11,
   "metadata": {},
   "outputs": [
    {
     "name": "stdout",
     "output_type": "stream",
     "text": [
      "([datetime.datetime(2008, 1, 1, 0, 0)], [datetime.datetime(2008, 1, 11, 0, 0)], '2D', <DateOffset: days=2>)\n"
     ]
    }
   ],
   "source": [
    "# set up bounds via dates\n",
    "date = inst.files.start_date\n",
    "date2 = inst.files.start_date + pds.DateOffset(days=10)\n",
    "date2 = date2.to_pydatetime()\n",
    "# format (dt.datetime of list-of, dt.datetime of list-of, pandas frequency string, pandas Date Offset)\n",
    "# Ensuring type consistency means that Timestamp date2 needs to become datetime date2.\n",
    "# Incidentally, the frequency string '2D' can also be a DateOffset\n",
    "bounds = (date, date2, '2D', pds.DateOffset(days=2))\n",
    "inst.bounds = bounds\n",
    "print(inst.bounds)"
   ]
  },
  {
   "cell_type": "code",
   "execution_count": 15,
   "metadata": {},
   "outputs": [
    {
     "name": "stdout",
     "output_type": "stream",
     "text": [
      "(array(['2008-01-01.nofile'], dtype='<U17'), array(['2008-01-11.nofile'], dtype='<U17'), 2, 2)\n"
     ]
    }
   ],
   "source": [
    "# set up bounds via files\n",
    "file = inst.files[0]\n",
    "file2 = inst.files[10]\n",
    "# step by 2 files, and load 2 files at a time\n",
    "bounds = (file, file2, 2, 2)\n",
    "inst.bounds = bounds\n",
    "print(inst.bounds)"
   ]
  },
  {
   "cell_type": "markdown",
   "metadata": {},
   "source": [
    "# Test Iteration"
   ]
  },
  {
   "cell_type": "code",
   "execution_count": 16,
   "metadata": {},
   "outputs": [
    {
     "name": "stdout",
     "output_type": "stream",
     "text": [
      "Instrument bounds: \n",
      "(array(['2008-01-01.nofile'], dtype='<U17'), array(['2008-01-11.nofile'], dtype='<U17'), 2, 2) \n",
      "\n",
      "Checking iteration via next().\n",
      "Loaded Data Range: \n",
      "2008-01-01 00:00:00  ---  2008-01-02 23:59:59 \n",
      "\n",
      "\n",
      "Loaded Data Range: \n",
      "2008-01-03 00:00:00  ---  2008-01-04 23:59:59 \n",
      "\n",
      "\n",
      "Loaded Data Range: \n",
      "2008-01-05 00:00:00  ---  2008-01-06 23:59:59 \n",
      "\n",
      "\n",
      "Loaded Data Range: \n",
      "2008-01-07 00:00:00  ---  2008-01-08 23:59:59 \n",
      "\n",
      "\n",
      "Loaded Data Range: \n",
      "2008-01-09 00:00:00  ---  2008-01-10 23:59:59 \n",
      "\n",
      "\n",
      "Loaded Data Range: \n",
      "2008-01-11 00:00:00  ---  2008-01-12 23:59:59 \n",
      "\n",
      "\n",
      "Checking iteration via prev().\n",
      "Loaded Data Range: \n",
      "2008-01-11 00:00:00  ---  2008-01-12 23:59:59 \n",
      "\n",
      "\n",
      "Loaded Data Range: \n",
      "2008-01-09 00:00:00  ---  2008-01-10 23:59:59 \n",
      "\n",
      "\n",
      "Loaded Data Range: \n",
      "2008-01-07 00:00:00  ---  2008-01-08 23:59:59 \n",
      "\n",
      "\n",
      "Loaded Data Range: \n",
      "2008-01-05 00:00:00  ---  2008-01-06 23:59:59 \n",
      "\n",
      "\n",
      "Loaded Data Range: \n",
      "2008-01-03 00:00:00  ---  2008-01-04 23:59:59 \n",
      "\n",
      "\n",
      "Loaded Data Range: \n",
      "2008-01-01 00:00:00  ---  2008-01-02 23:59:59 \n",
      "\n",
      "\n",
      "Checking iteration via built-in iteration.\n",
      "Loaded Data Range: \n",
      "2008-01-01 00:00:00  ---  2008-01-02 23:59:59 \n",
      "\n",
      "\n",
      "Loaded Data Range: \n",
      "2008-01-03 00:00:00  ---  2008-01-04 23:59:59 \n",
      "\n",
      "\n",
      "Loaded Data Range: \n",
      "2008-01-05 00:00:00  ---  2008-01-06 23:59:59 \n",
      "\n",
      "\n",
      "Loaded Data Range: \n",
      "2008-01-07 00:00:00  ---  2008-01-08 23:59:59 \n",
      "\n",
      "\n",
      "Loaded Data Range: \n",
      "2008-01-09 00:00:00  ---  2008-01-10 23:59:59 \n",
      "\n",
      "\n",
      "Loaded Data Range: \n",
      "2008-01-11 00:00:00  ---  2008-01-12 23:59:59 \n",
      "\n",
      "\n",
      "One last quick check on .prev()\n",
      "Loaded Data Range: \n",
      "2008-01-09 00:00:00  ---  2008-01-10 23:59:59 \n",
      "\n",
      "\n"
     ]
    }
   ],
   "source": [
    "\n",
    "def check_bounds(inst):\n",
    "    \"\"\"Check that inst.date is within inst.bounds\"\"\"\n",
    "    if inst._iter_type == 'date':\n",
    "        assert inst.date >= inst.bounds[0][0]\n",
    "        assert inst.date <= inst.bounds[1][0]\n",
    "    else:\n",
    "        assert inst._fid >= inst.files.get_index(inst.bounds[0][0])\n",
    "        assert inst._fid <= inst.files.get_index(inst.bounds[1][0])\n",
    "\n",
    "# instrument setup\n",
    "# We need to start with a new Instrument to ensure we test .next() starting from nothing\n",
    "inst = pysat.Instrument('pysat', 'testing')\n",
    "inst.bounds = bounds\n",
    "print('Instrument bounds: ')\n",
    "print(inst.bounds, '\\n')\n",
    "\n",
    "print('Checking iteration via next().')\n",
    "while True:\n",
    "    try:\n",
    "        inst.next()\n",
    "        print_range(inst)\n",
    "        check_bounds(inst)\n",
    "    except StopIteration:\n",
    "        break\n",
    "\n",
    "# We need to start with a new Instrument to ensure we test .prev() starting from nothing\n",
    "inst = pysat.Instrument('pysat', 'testing')\n",
    "inst.bounds = bounds\n",
    "print('Checking iteration via prev().')\n",
    "while True:\n",
    "    try:\n",
    "        inst.prev()\n",
    "        print_range(inst)\n",
    "        check_bounds(inst)\n",
    "    except StopIteration:\n",
    "        break\n",
    "\n",
    "\n",
    "# We need to start with a new Instrument to ensure we test iteration starting from nothing\n",
    "inst = pysat.Instrument('pysat', 'testing')\n",
    "inst.bounds = bounds\n",
    "print('Checking iteration via built-in iteration.')\n",
    "for inst in inst:\n",
    "    print_range(inst)\n",
    "    check_bounds(inst)\n",
    "\n",
    "\n",
    "# Instrument currently on last day\n",
    "print('One last quick check on .prev()')\n",
    "inst.prev()\n",
    "print_range(inst)"
   ]
  }
 ],
 "metadata": {
  "kernelspec": {
   "display_name": "Python 3",
   "language": "python",
   "name": "python3"
  },
  "language_info": {
   "codemirror_mode": {
    "name": "ipython",
    "version": 3
   },
   "file_extension": ".py",
   "mimetype": "text/x-python",
   "name": "python",
   "nbconvert_exporter": "python",
   "pygments_lexer": "ipython3",
   "version": "3.8.3"
  }
 },
 "nbformat": 4,
 "nbformat_minor": 4
}
