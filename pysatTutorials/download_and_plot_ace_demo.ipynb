{
 "cells": [
  {
   "cell_type": "code",
   "execution_count": 3,
   "id": "58f1b315",
   "metadata": {},
   "outputs": [],
   "source": [
    "import datetime as dt\n",
    "import matplotlib.pyplot as plt\n",
    "\n",
    "import pysat\n",
    "import pysatSpaceWeather"
   ]
  },
  {
   "cell_type": "code",
   "execution_count": 4,
   "id": "68491374",
   "metadata": {},
   "outputs": [],
   "source": [
    "# Set a directory for pysat to use for data\n",
    "pysat.params['data_dirs'] = '~/pysatDemo'"
   ]
  },
  {
   "cell_type": "code",
   "execution_count": 5,
   "id": "94da2428",
   "metadata": {},
   "outputs": [],
   "source": [
    "# Register instruments with pysat. Only needed once per install.\n",
    "pysat.utils.registry.register_by_module(pysatSpaceWeather.instruments)"
   ]
  },
  {
   "cell_type": "code",
   "execution_count": 9,
   "id": "2281cc53",
   "metadata": {},
   "outputs": [],
   "source": [
    "# Instantiate a pysat Instrument that will use support in \n",
    "# pysatSpaceWeather for ACE Space Weather data.\n",
    "ace = pysat.Instrument('ace', 'swepam', tag='historic')"
   ]
  },
  {
   "cell_type": "code",
   "execution_count": 10,
   "id": "fac3a698",
   "metadata": {},
   "outputs": [],
   "source": [
    "# Download data for July, 2021\n",
    "ace.download(dt.datetime(2021, 7, 1), dt.datetime(2021, 7, 31))"
   ]
  },
  {
   "cell_type": "code",
   "execution_count": 12,
   "id": "ee2e0c66",
   "metadata": {},
   "outputs": [],
   "source": [
    "# Load all data\n",
    "ace.load()"
   ]
  },
  {
   "cell_type": "code",
   "execution_count": 23,
   "id": "87c947a7",
   "metadata": {},
   "outputs": [],
   "source": [
    "# Make plot of all variables in July, 2021\n",
    "sdate = dt.datetime(2021, 7, 5)\n",
    "edate = dt.datetime(2021, 7, 27)\n",
    "for var in ace.variables:\n",
    "    plt.figure()\n",
    "    units = ace.meta[var, ace.meta.labels.units]\n",
    "    title = ace.meta[var, ace.meta.labels.name]\n",
    "\n",
    "    ace[sdate:edate, var].plot(title=title, ylabel=units, \n",
    "                               xlabel='Date')\n",
    "    plt.tight_layout()\n",
    "    plt.savefig(''.join([var, '_example.jpg']))\n",
    "    plt.close()"
   ]
  },
  {
   "cell_type": "code",
   "execution_count": null,
   "id": "08bda106",
   "metadata": {},
   "outputs": [],
   "source": [
    "\n"
   ]
  },
  {
   "cell_type": "code",
   "execution_count": null,
   "id": "dc911010",
   "metadata": {},
   "outputs": [],
   "source": []
  }
 ],
 "metadata": {
  "kernelspec": {
   "display_name": "Python 3 (ipykernel)",
   "language": "python",
   "name": "python3"
  },
  "language_info": {
   "codemirror_mode": {
    "name": "ipython",
    "version": 3
   },
   "file_extension": ".py",
   "mimetype": "text/x-python",
   "name": "python",
   "nbconvert_exporter": "python",
   "pygments_lexer": "ipython3",
   "version": "3.8.11"
  }
 },
 "nbformat": 4,
 "nbformat_minor": 5
}
